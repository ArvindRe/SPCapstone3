{
 "cells": [
  {
   "cell_type": "code",
   "execution_count": 43,
   "metadata": {},
   "outputs": [],
   "source": [
    "import pandas as pd"
   ]
  },
  {
   "cell_type": "code",
   "execution_count": 44,
   "metadata": {},
   "outputs": [],
   "source": [
    "df_preds = None\n",
    "for i, f in enumerate(['cb-y-preds.csv','lgb-y-preds.csv','xgb-y-preds.csv']):\n",
    "    if df_preds is None:\n",
    "        df_preds = pd.read_csv(f)\n",
    "        df_preds.columns = ['id', 'pred_{}'.format(i)]\n",
    "    else:\n",
    "        df1 = pd.read_csv(f)\n",
    "        df1.columns = ['id', 'pred_{}'.format(i)]\n",
    "        df_preds = df_preds.merge(df1, on ='id', how='left')"
   ]
  },
  {
   "cell_type": "code",
   "execution_count": 45,
   "metadata": {},
   "outputs": [
    {
     "data": {
      "text/html": [
       "<div>\n",
       "<style scoped>\n",
       "    .dataframe tbody tr th:only-of-type {\n",
       "        vertical-align: middle;\n",
       "    }\n",
       "\n",
       "    .dataframe tbody tr th {\n",
       "        vertical-align: top;\n",
       "    }\n",
       "\n",
       "    .dataframe thead th {\n",
       "        text-align: right;\n",
       "    }\n",
       "</style>\n",
       "<table border=\"1\" class=\"dataframe\">\n",
       "  <thead>\n",
       "    <tr style=\"text-align: right;\">\n",
       "      <th></th>\n",
       "      <th>id</th>\n",
       "      <th>pred_0</th>\n",
       "      <th>pred_1</th>\n",
       "      <th>pred_2</th>\n",
       "    </tr>\n",
       "  </thead>\n",
       "  <tbody>\n",
       "    <tr>\n",
       "      <th>0</th>\n",
       "      <td>3</td>\n",
       "      <td>0.408882</td>\n",
       "      <td>0.334639</td>\n",
       "      <td>0.432304</td>\n",
       "    </tr>\n",
       "    <tr>\n",
       "      <th>1</th>\n",
       "      <td>4</td>\n",
       "      <td>0.001055</td>\n",
       "      <td>0.001519</td>\n",
       "      <td>0.009721</td>\n",
       "    </tr>\n",
       "    <tr>\n",
       "      <th>2</th>\n",
       "      <td>5</td>\n",
       "      <td>0.004768</td>\n",
       "      <td>0.001411</td>\n",
       "      <td>0.002473</td>\n",
       "    </tr>\n",
       "    <tr>\n",
       "      <th>3</th>\n",
       "      <td>8</td>\n",
       "      <td>0.000461</td>\n",
       "      <td>0.000120</td>\n",
       "      <td>0.000474</td>\n",
       "    </tr>\n",
       "    <tr>\n",
       "      <th>4</th>\n",
       "      <td>10</td>\n",
       "      <td>0.000725</td>\n",
       "      <td>0.000457</td>\n",
       "      <td>0.002300</td>\n",
       "    </tr>\n",
       "  </tbody>\n",
       "</table>\n",
       "</div>"
      ],
      "text/plain": [
       "   id    pred_0    pred_1    pred_2\n",
       "0   3  0.408882  0.334639  0.432304\n",
       "1   4  0.001055  0.001519  0.009721\n",
       "2   5  0.004768  0.001411  0.002473\n",
       "3   8  0.000461  0.000120  0.000474\n",
       "4  10  0.000725  0.000457  0.002300"
      ]
     },
     "execution_count": 45,
     "metadata": {},
     "output_type": "execute_result"
    }
   ],
   "source": [
    "df_preds.head()"
   ]
  },
  {
   "cell_type": "code",
   "execution_count": 46,
   "metadata": {},
   "outputs": [],
   "source": [
    "test_ids = df_preds.id\n",
    "df_preds = df_preds.drop(columns=['id'])"
   ]
  },
  {
   "cell_type": "code",
   "execution_count": 47,
   "metadata": {},
   "outputs": [
    {
     "data": {
      "text/plain": [
       "0     3\n",
       "1     4\n",
       "2     5\n",
       "3     8\n",
       "4    10\n",
       "Name: id, dtype: int64"
      ]
     },
     "execution_count": 47,
     "metadata": {},
     "output_type": "execute_result"
    }
   ],
   "source": [
    "test_ids.head()"
   ]
  },
  {
   "cell_type": "code",
   "execution_count": 48,
   "metadata": {},
   "outputs": [
    {
     "data": {
      "text/html": [
       "<div>\n",
       "<style scoped>\n",
       "    .dataframe tbody tr th:only-of-type {\n",
       "        vertical-align: middle;\n",
       "    }\n",
       "\n",
       "    .dataframe tbody tr th {\n",
       "        vertical-align: top;\n",
       "    }\n",
       "\n",
       "    .dataframe thead th {\n",
       "        text-align: right;\n",
       "    }\n",
       "</style>\n",
       "<table border=\"1\" class=\"dataframe\">\n",
       "  <thead>\n",
       "    <tr style=\"text-align: right;\">\n",
       "      <th></th>\n",
       "      <th>pred_0</th>\n",
       "      <th>pred_1</th>\n",
       "      <th>pred_2</th>\n",
       "    </tr>\n",
       "  </thead>\n",
       "  <tbody>\n",
       "    <tr>\n",
       "      <th>0</th>\n",
       "      <td>0.408882</td>\n",
       "      <td>0.334639</td>\n",
       "      <td>0.432304</td>\n",
       "    </tr>\n",
       "    <tr>\n",
       "      <th>1</th>\n",
       "      <td>0.001055</td>\n",
       "      <td>0.001519</td>\n",
       "      <td>0.009721</td>\n",
       "    </tr>\n",
       "    <tr>\n",
       "      <th>2</th>\n",
       "      <td>0.004768</td>\n",
       "      <td>0.001411</td>\n",
       "      <td>0.002473</td>\n",
       "    </tr>\n",
       "    <tr>\n",
       "      <th>3</th>\n",
       "      <td>0.000461</td>\n",
       "      <td>0.000120</td>\n",
       "      <td>0.000474</td>\n",
       "    </tr>\n",
       "    <tr>\n",
       "      <th>4</th>\n",
       "      <td>0.000725</td>\n",
       "      <td>0.000457</td>\n",
       "      <td>0.002300</td>\n",
       "    </tr>\n",
       "  </tbody>\n",
       "</table>\n",
       "</div>"
      ],
      "text/plain": [
       "     pred_0    pred_1    pred_2\n",
       "0  0.408882  0.334639  0.432304\n",
       "1  0.001055  0.001519  0.009721\n",
       "2  0.004768  0.001411  0.002473\n",
       "3  0.000461  0.000120  0.000474\n",
       "4  0.000725  0.000457  0.002300"
      ]
     },
     "execution_count": 48,
     "metadata": {},
     "output_type": "execute_result"
    }
   ],
   "source": [
    "df_preds.head()"
   ]
  },
  {
   "cell_type": "code",
   "execution_count": 49,
   "metadata": {},
   "outputs": [
    {
     "data": {
      "text/plain": [
       "0        0.391941\n",
       "1        0.004099\n",
       "2        0.002884\n",
       "3        0.000352\n",
       "4        0.001161\n",
       "           ...   \n",
       "50221    0.001670\n",
       "50222    0.003790\n",
       "50223    0.005863\n",
       "50224    0.009347\n",
       "50225    0.000617\n",
       "Length: 50226, dtype: float64"
      ]
     },
     "execution_count": 49,
     "metadata": {},
     "output_type": "execute_result"
    }
   ],
   "source": [
    "df_preds.mean(axis=1)"
   ]
  },
  {
   "cell_type": "code",
   "execution_count": 50,
   "metadata": {},
   "outputs": [],
   "source": [
    "pd.DataFrame({\"id\": test_ids, \"redemption_status\": df_preds.mean(axis=1)}).to_csv('final_submission.csv', index=False)"
   ]
  },
  {
   "cell_type": "code",
   "execution_count": 51,
   "metadata": {},
   "outputs": [
    {
     "name": "stdout",
     "output_type": "stream",
     "text": [
      "{'id': 0             3\n",
      "1             4\n",
      "2             5\n",
      "3             8\n",
      "4            10\n",
      "          ...  \n",
      "50221    128584\n",
      "50222    128588\n",
      "50223    128591\n",
      "50224    128593\n",
      "50225    128594\n",
      "Name: id, Length: 50226, dtype: int64, 'redemption_status': 0        0.391941\n",
      "1        0.004099\n",
      "2        0.002884\n",
      "3        0.000352\n",
      "4        0.001161\n",
      "           ...   \n",
      "50221    0.001670\n",
      "50222    0.003790\n",
      "50223    0.005863\n",
      "50224    0.009347\n",
      "50225    0.000617\n",
      "Length: 50226, dtype: float64}\n"
     ]
    }
   ],
   "source": [
    "print({\"id\": test_ids, \"redemption_status\": df_preds.mean(axis=1)})"
   ]
  }
 ],
 "metadata": {
  "kernelspec": {
   "display_name": "Python 3",
   "language": "python",
   "name": "python3"
  },
  "language_info": {
   "codemirror_mode": {
    "name": "ipython",
    "version": 3
   },
   "file_extension": ".py",
   "mimetype": "text/x-python",
   "name": "python",
   "nbconvert_exporter": "python",
   "pygments_lexer": "ipython3",
   "version": "3.7.6"
  }
 },
 "nbformat": 4,
 "nbformat_minor": 4
}
